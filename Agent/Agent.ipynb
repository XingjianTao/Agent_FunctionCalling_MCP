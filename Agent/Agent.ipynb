{
 "cells": [
  {
   "cell_type": "markdown",
   "id": "62e93396",
   "metadata": {},
   "source": [
    "# Agent"
   ]
  },
  {
   "cell_type": "markdown",
   "id": "5c19b8b9",
   "metadata": {
    "vscode": {
     "languageId": "ini"
    }
   },
   "source": [
    "# 目录\n",
    "\n",
    "- [什么是Agent](#什么是agent)\n",
    "- [测试api（案例来自OpenAI API平台）](#测试api案例来自openai-api平台)\n",
    "    - 配置 OpenAI API 客户端\n",
    "- [创建一个 AI Agent](#创建一个-ai-agent)\n",
    "    - [创建 llm](#创建-llm)\n",
    "    - [创建本地 tools，编写 API schema](#创建本地-tools编写-api-schema)\n",
    "    - [通过提示词实现工具调用流程](#通过提示词实现工具调用流程)\n",
    "    - [构建执行器并执行](#构建执行器并执行)\n",
    "- [在上述 agent 的基础上增加记忆](#在上述-agent-的基础上增加记忆)\n"
   ]
  },
  {
   "cell_type": "markdown",
   "id": "8e0c115e",
   "metadata": {},
   "source": [
    "## 什么是Agent\n",
    "**“Agent 是封装了大语言模型 + Tools + Memory 的结构”**\n",
    "\n",
    "✔️ 对的，Agent 并不是语言模型本身，而是一个**调度框架**（在代码中就是一个类），让语言模型能“用工具完成任务”。\n",
    "\n",
    "\n",
    "\n",
    "**“在 Agent 内部，它可以按照 prompt 的逻辑链条，通过内部工具帮助大语言模型完成任务。”**\n",
    "\n",
    "✔️ 非常到位。Agent 的核心就是：\n",
    "\n",
    "* 指定一个结构化的 **Prompt**；\n",
    "* 让 LLM 按照“思考 → 行动 → 观察 → 再思考”的 **链式推理方式**（如 ReAct）运行；\n",
    "* 并在过程中调用工具、引用记忆、完成任务。\n",
    "\n",
    "\n",
    "\n",
    "## 🧠 标准定义（简明回顾版）：\n",
    "\n",
    "**Agent（智能体）是基于大语言模型（LLM）的执行架构，它结合了 Prompt、工具（Tools）、记忆（Memory）和控制逻辑，使得语言模型能够感知上下文、调用外部资源、完成复杂任务。**\n",
    "\n",
    "换句话说：\n",
    "\n",
    "> 🧠 LLM 是“大脑”，🛠 Tools 是“手”，🧾 Memory 是“记忆”，而 Agent 是“协调所有器官完成任务的意识”。"
   ]
  },
  {
   "cell_type": "markdown",
   "id": "e0cd1816",
   "metadata": {},
   "source": [
    "## 测试api（案例来自OpenAI API平台）\n",
    "https://platform.openai.com/docs/quickstart?api-mode=responses \n",
    "由于我们使用的是中转api，并不支持最新的调用方法，所以案例和官网有所不同"
   ]
  },
  {
   "cell_type": "code",
   "execution_count": 12,
   "id": "97bb6d51",
   "metadata": {},
   "outputs": [
    {
     "name": "stdout",
     "output_type": "stream",
     "text": [
      "sk-42bry6ZXNNkAvs91Kzm5aDWrmvc3f3mw1u2sRfCOlIuihf6J\n",
      "Generated Message: Lines of code and code,  \n",
      "Whispers of thought intertwined,  \n",
      "Dreams in silicon.\n"
     ]
    }
   ],
   "source": [
    "from openai import OpenAI\n",
    "\n",
    "# 指向自定义服务商（示例：MCP Server）\n",
    "client = OpenAI(\n",
    "    base_url = \"https://api.hopeai.cc/v1\",  # 👈 关键修改点\n",
    "    api_key = \"sk-42bry6ZXNNkAvs91Kzm5aDWrmvc3f3mw1u2sRfCOlIuihf6J\"  # 服务商提供的认证密钥\n",
    ")\n",
    "print(client.api_key)  # 检查是否正确设置了 API 密钥\n",
    "\n",
    "completion = client.chat.completions.create( \n",
    "    model=\"gpt-4o-mini\",\n",
    "    store=True,\n",
    "    messages=[\n",
    "    {\"role\": \"user\", \"content\": \"write a haiku about ai\"}\n",
    "  ]\n",
    "  \n",
    ")\n",
    "\n",
    "# 提取生成的消息内容\n",
    "message = completion.choices[0].message.content\n",
    "print(\"Generated Message:\", message)\n"
   ]
  },
  {
   "cell_type": "markdown",
   "id": "50881bba",
   "metadata": {},
   "source": [
    "## 创建一个ai agent\n",
    "采用gpt-4o-mini作为大语言模型，通过[系统提示词]调用自己创建的tool：get_current_time"
   ]
  },
  {
   "cell_type": "code",
   "execution_count": 13,
   "id": "279e092b",
   "metadata": {},
   "outputs": [],
   "source": [
    "from langchain.agents import AgentExecutor, create_react_agent\n",
    "from langchain.tools import Tool\n",
    "from langchain import hub\n",
    "from langchain_openai import ChatOpenAI"
   ]
  },
  {
   "cell_type": "markdown",
   "id": "d00e7f13",
   "metadata": {},
   "source": [
    "### 创建llm"
   ]
  },
  {
   "cell_type": "code",
   "execution_count": 14,
   "id": "0775edb9",
   "metadata": {},
   "outputs": [],
   "source": [
    "# 使用 langchain 的 OpenAI 模块\n",
    "llm = ChatOpenAI(\n",
    "    model=\"gpt-4o-mini\",\n",
    "    temperature=0,\n",
    "    openai_api_key=\"sk-42bry6ZXNNkAvs91Kzm5aDWrmvc3f3mw1u2sRfCOlIuihf6J\",\n",
    "    openai_api_base=\"https://api.hopeai.cc/v1\"\n",
    ")\n",
    "# print(llm.invoke(\"你好，你是怎么工作的？\"))"
   ]
  },
  {
   "cell_type": "markdown",
   "id": "6db156da",
   "metadata": {},
   "source": [
    "### 创建本地tools，编写api schema"
   ]
  },
  {
   "cell_type": "code",
   "execution_count": 15,
   "id": "f44dcae8",
   "metadata": {},
   "outputs": [],
   "source": [
    "def get_current_time(input=None):  # 添加一个默认参数\n",
    "    from datetime import datetime\n",
    "    return datetime.now().strftime(\"%Y-%m-%d %H:%M:%S\")\n",
    "## 下面这一段似乎就是所谓的api schema\n",
    "time_tool = Tool(\n",
    "    name=\"get_current_time\",\n",
    "    func=get_current_time,\n",
    "    description=\"获取当前的日期和时间。\"\n",
    ")"
   ]
  },
  {
   "cell_type": "markdown",
   "id": "2da9754d",
   "metadata": {},
   "source": [
    "### 通过提示词实现工具调用流程"
   ]
  },
  {
   "cell_type": "code",
   "execution_count": 16,
   "id": "00db0ebf",
   "metadata": {},
   "outputs": [
    {
     "name": "stderr",
     "output_type": "stream",
     "text": [
      "/opt/anaconda3/envs/aiagent/lib/python3.12/site-packages/langsmith/client.py:272: LangSmithMissingAPIKeyWarning: API key must be provided when using hosted LangSmith API\n",
      "  warnings.warn(\n"
     ]
    },
    {
     "name": "stdout",
     "output_type": "stream",
     "text": [
      "input_variables=['agent_scratchpad', 'input', 'tool_names', 'tools'] input_types={} partial_variables={} metadata={'lc_hub_owner': 'hwchase17', 'lc_hub_repo': 'react', 'lc_hub_commit_hash': 'd15fe3c426f1c4b3f37c9198853e4a86e20c425ca7f4752ec0c9b0e97ca7ea4d'} template='Answer the following questions as best you can. You have access to the following tools:\\n\\n{tools}\\n\\nUse the following format:\\n\\nQuestion: the input question you must answer\\nThought: you should always think about what to do\\nAction: the action to take, should be one of [{tool_names}]\\nAction Input: the input to the action\\nObservation: the result of the action\\n... (this Thought/Action/Action Input/Observation can repeat N times)\\nThought: I now know the final answer\\nFinal Answer: the final answer to the original input question\\n\\nBegin!\\n\\nQuestion: {input}\\nThought:{agent_scratchpad}'\n"
     ]
    }
   ],
   "source": [
    "prompt = hub.pull(\"hwchase17/react\")\n",
    "\n",
    "# 查看提示模板的内容\n",
    "print(prompt)"
   ]
  },
  {
   "cell_type": "markdown",
   "id": "5631d6ae",
   "metadata": {},
   "source": [
    "### 构建执行器并执行"
   ]
  },
  {
   "cell_type": "code",
   "execution_count": 17,
   "id": "008d690c",
   "metadata": {},
   "outputs": [
    {
     "name": "stdout",
     "output_type": "stream",
     "text": [
      "\n",
      "\n",
      "\u001b[1m> Entering new AgentExecutor chain...\u001b[0m\n",
      "\u001b[32;1m\u001b[1;3m我需要获取当前的日期和时间来回答这个问题。  \n",
      "Action: get_current_time  \n",
      "Action Input: None  \u001b[0m\u001b[36;1m\u001b[1;3m2025-05-13 22:28:16\u001b[0m\u001b[32;1m\u001b[1;3m我现在知道了当前的日期和时间是2025年5月13日22点28分16秒。  \n",
      "Final Answer: 现在的时间是2025年5月13日22点28分16秒。\u001b[0m\n",
      "\n",
      "\u001b[1m> Finished chain.\u001b[0m\n",
      "现在的时间是2025年5月13日22点28分16秒。\n"
     ]
    }
   ],
   "source": [
    "agent = create_react_agent(llm=llm, tools=[time_tool], prompt=prompt)\n",
    "agent_executor = AgentExecutor(agent=agent, tools=[time_tool], verbose=True)\n",
    "response = agent_executor.invoke({\"input\": \"请告诉我现在的时间。\"})\n",
    "print(response[\"output\"])"
   ]
  },
  {
   "cell_type": "markdown",
   "id": "8ed3c08a",
   "metadata": {},
   "source": [
    "## 在上述agent的基础上增加记忆"
   ]
  },
  {
   "cell_type": "code",
   "execution_count": 18,
   "id": "65a91706",
   "metadata": {},
   "outputs": [],
   "source": [
    "from langchain.memory import ConversationBufferMemory\n",
    "from langchain.agents import initialize_agent\n",
    "from langchain.agents.agent_types import AgentType"
   ]
  },
  {
   "cell_type": "code",
   "execution_count": 19,
   "id": "c473b71d",
   "metadata": {},
   "outputs": [
    {
     "name": "stdout",
     "output_type": "stream",
     "text": [
      "\n",
      "\n",
      "\u001b[1m> Entering new AgentExecutor chain...\u001b[0m\n",
      "\u001b[32;1m\u001b[1;3m```\n",
      "Thought: Do I need to use a tool? No\n",
      "AI: Hello! How can I assist you today?\n",
      "```\u001b[0m\n",
      "\n",
      "\u001b[1m> Finished chain.\u001b[0m\n",
      "\n",
      "🤖 智能体回答： Hello! How can I assist you today?\n",
      "```\n"
     ]
    }
   ],
   "source": [
    "# 会话记忆：保留对话历史\n",
    "memory = ConversationBufferMemory(memory_key=\"chat_history\", return_messages=True)\n",
    "# === 构建 Agent 和执行器 ===\n",
    "executor = initialize_agent(\n",
    "    tools=[time_tool],\n",
    "    llm=llm,\n",
    "    agent=AgentType.CONVERSATIONAL_REACT_DESCRIPTION,\n",
    "    memory=memory,\n",
    "    verbose=True,\n",
    ")\n",
    "# === 多轮对话 ===\n",
    "while True:\n",
    "    user_input = input(\"\\n🧑 你说：\")\n",
    "    if user_input.lower() in [\"exit\", \"quit\", \"再见\", \"bye\"]:\n",
    "        break\n",
    "    response = executor.invoke({\"input\": user_input})\n",
    "    print(\"\\n🤖 智能体回答：\", response[\"output\"])\n",
    "\n",
    "# === 对话案例 ===\n",
    "# 1. 用户输入：请告诉我现在的时间。\n",
    "# 2. 智能体回答：2023-10-01 12:34:56\n",
    "# 3. 用户输入：你能告诉我今天的天气吗？\n",
    "# 4. 智能体回答：抱歉，我无法提供天气信息，但我可以告诉你现在的时间。\n",
    "# 5. 用户输入：再见"
   ]
  }
 ],
 "metadata": {
  "kernelspec": {
   "display_name": "aiagent",
   "language": "python",
   "name": "python3"
  },
  "language_info": {
   "codemirror_mode": {
    "name": "ipython",
    "version": 3
   },
   "file_extension": ".py",
   "mimetype": "text/x-python",
   "name": "python",
   "nbconvert_exporter": "python",
   "pygments_lexer": "ipython3",
   "version": "3.12.9"
  }
 },
 "nbformat": 4,
 "nbformat_minor": 5
}
