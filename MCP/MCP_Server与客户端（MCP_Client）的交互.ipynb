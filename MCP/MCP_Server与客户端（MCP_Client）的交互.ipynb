{
 "cells": [
  {
   "cell_type": "markdown",
   "id": "17b655b6",
   "metadata": {},
   "source": [
    "# MCP_Server与MCP_Client的交互\n",
    "参考教程：https://www.bilibili.com/video/BV1Y854zmEg9?spm_id_from=333.788.recommend_more_video.-1&vd_source=ba16f478e6d7f23888c37746ea6756de "
   ]
  },
  {
   "cell_type": "markdown",
   "id": "21022c5f",
   "metadata": {},
   "source": [
    "## 引言\n",
    "\n",
    "上述教程通过中介程序调用MCP_Server，可以获取交互记录。\n",
    "<figure>\n",
    "    <img src=\"attachments/交互记录日志.png\" alt=\"交互记录日志\" style=\"width:500px\">\n",
    "    <figcaption> 交互记录日志 </figcaption>\n",
    "</figure>\n",
    "为了简单起见，我们不采用自己跑一遍教程的方式，而是直接记录教程信息，解读交互过程。"
   ]
  },
  {
   "cell_type": "markdown",
   "id": "1933a0de",
   "metadata": {},
   "source": [
    "## 解读交互日志"
   ]
  },
  {
   "cell_type": "markdown",
   "id": "4d584075",
   "metadata": {},
   "source": [
    "### 1. 客户端初始化请求（客户端 → 服务器）\n",
    "\n",
    "第一步是客户端发送初始化请求，建立与服务器的连接。"
   ]
  },
  {
   "cell_type": "code",
   "execution_count": null,
   "id": "4a418a4d",
   "metadata": {},
   "outputs": [],
   "source": [
    "# 客户端初始化请求\n",
    "{\n",
    "    \"method\": \"initialize\",\n",
    "    \"params\": {\n",
    "        \"protocolVersion\": \"2024-11-05\",\n",
    "        \"capabilities\": {},\n",
    "        \"clientInfo\": {\n",
    "            \"name\": \"Cline\",\n",
    "            \"version\": \"3.12.3\"\n",
    "        }\n",
    "    },\n",
    "    \"jsonrpc\": \"2.0\",\n",
    "    \"id\": 0\n",
    "}"
   ]
  },
  {
   "cell_type": "markdown",
   "id": "6532fefa",
   "metadata": {},
   "source": [
    "**解析：**\n",
    "- `method: \"initialize\"` - 表示这是一个初始化请求\n",
    "- `protocolVersion: \"2024-11-05\"` - 客户端使用的MCP协议版本\n",
    "- `capabilities: {}` - 客户端的能力（此处为空，表示使用默认能力）\n",
    "- `clientInfo` - 客户端信息，包含名称（Cline）和版本（3.12.3）\n",
    "- `jsonrpc: \"2.0\"` - 使用的JSON-RPC协议版本\n",
    "- `id: 0` - 请求ID，用于匹配响应"
   ]
  },
  {
   "cell_type": "markdown",
   "id": "458947f2",
   "metadata": {},
   "source": [
    "### 2. 服务器初始化响应（服务器 → 客户端）"
   ]
  },
  {
   "cell_type": "code",
   "execution_count": null,
   "id": "c1db359d",
   "metadata": {},
   "outputs": [],
   "source": [
    "# 服务器初始化响应\n",
    "{\n",
    "    \"jsonrpc\": \"2.0\",\n",
    "    \"id\": 0,\n",
    "    \"result\": {\n",
    "        \"protocolVersion\": \"2024-11-05\",\n",
    "        \"capabilities\": {\n",
    "            \"experimental\": {},\n",
    "            \"prompts\": {\n",
    "                \"listChanged\": false\n",
    "            },\n",
    "            \"resources\": {\n",
    "                \"subscribe\": false,\n",
    "                \"listChanged\": false\n",
    "            },\n",
    "            \"tools\": {\n",
    "                \"listChanged\": false\n",
    "            }\n",
    "        },\n",
    "        \"serverInfo\": {\n",
    "            \"name\": \"weather\",\n",
    "            \"version\": \"1.6.0\"\n",
    "        }\n",
    "    }\n",
    "}"
   ]
  },
  {
   "cell_type": "markdown",
   "id": "c136ca8d",
   "metadata": {},
   "source": [
    "**解析：**\n",
    "- `id: 0` - 与请求ID匹配，表明这是对初始化请求的响应\n",
    "- `result` - 包含服务器的响应结果\n",
    "  - `protocolVersion: \"2024-11-05\"` - 服务器支持的协议版本\n",
    "  - `capabilities` - 服务器支持的各种能力：\n",
    "    - `experimental` - 实验性功能（空）\n",
    "    - `prompts.listChanged: false` - 提示列表是否支持实时变更\n",
    "    - `resources.subscribe: false` - 是否支持资源订阅\n",
    "    - `resources.listChanged: false` - 资源列表是否支持实时变更  \n",
    "    - `tools.listChanged: false` - 工具列表是否支持实时变更\n",
    "  - `serverInfo` - 服务器信息\n",
    "    - `name: \"weather\"` - 服务器名称，表示这是一个天气服务\n",
    "    - `version: \"1.6.0\"` - 服务器版本"
   ]
  },
  {
   "cell_type": "markdown",
   "id": "7c655330",
   "metadata": {},
   "source": [
    "### 3. 客户端发送初始化完成通知（客户端 → 服务器）\n",
    "\n",
    "客户端通知服务器初始化已完成。"
   ]
  },
  {
   "cell_type": "code",
   "execution_count": null,
   "id": "8993dc81",
   "metadata": {},
   "outputs": [],
   "source": [
    "# 客户端发送初始化完成通知\n",
    "{\n",
    "    \"method\": \"notifications/initialized\",\n",
    "    \"jsonrpc\": \"2.0\"\n",
    "}"
   ]
  },
  {
   "cell_type": "markdown",
   "id": "ca4e1a5c",
   "metadata": {},
   "source": [
    "**解析：**\n",
    "- `method: \"notifications/initialized\"` - 表示这是一个通知服务器初始化已完成的消息\n",
    "- 注意这个请求没有`id`字段，表明这是一个通知（notification），不需要服务器响应"
   ]
  },
  {
   "cell_type": "markdown",
   "id": "39c15f2c",
   "metadata": {},
   "source": [
    "### 4. 客户端请求工具列表（客户端 → 服务器）\n",
    "\n",
    "客户端请求获取服务器提供的工具列表。"
   ]
  },
  {
   "cell_type": "code",
   "execution_count": null,
   "id": "bd89b6ad",
   "metadata": {},
   "outputs": [],
   "source": [
    "# 客户端请求工具列表\n",
    "{\n",
    "    \"method\": \"tools/list\",\n",
    "    \"jsonrpc\": \"2.0\",\n",
    "    \"id\": 1\n",
    "}"
   ]
  },
  {
   "cell_type": "markdown",
   "id": "5901efb9",
   "metadata": {},
   "source": [
    "**解析：**\n",
    "- `method: \"tools/list\"` - 请求获取服务器支持的工具列表\n",
    "- `id: 1` - 请求ID，用于匹配响应"
   ]
  },
  {
   "cell_type": "markdown",
   "id": "2ad93830",
   "metadata": {},
   "source": [
    "### 5. 服务器返回工具列表（服务器 → 客户端）"
   ]
  },
  {
   "cell_type": "code",
   "execution_count": null,
   "id": "1dd549f5",
   "metadata": {},
   "outputs": [],
   "source": [
    "# 服务器返回工具列表\n",
    "{\n",
    "    \"jsonrpc\": \"2.0\",\n",
    "    \"id\": 1,\n",
    "    \"result\": {\n",
    "        \"tools\": [\n",
    "            {\n",
    "                \"name\": \"get_alerts\",\n",
    "                \"description\": \"Get weather alerts for a US state.\n",
    "\n",
    "Args:\n",
    "    state: Two-letter US state code (e.g. CA, NY)\n",
    "\",\n",
    "                \"inputSchema\": {\n",
    "                    \"properties\": {\n",
    "                        \"state\": {\n",
    "                            \"title\": \"State\",\n",
    "                            \"type\": \"string\"\n",
    "                        }\n",
    "                    },\n",
    "                    \"required\": [\"state\"],\n",
    "                    \"title\": \"get_alertsArguments\",\n",
    "                    \"type\": \"object\"\n",
    "                }\n",
    "            },\n",
    "            {\n",
    "                \"name\": \"get_forecast\",\n",
    "                \"description\": \"Get weather forecast for a location.\n",
    "\n",
    "Args:\n",
    "    latitude: Latitude of the location\n",
    "    longitude: Longitude of the location\n",
    "\",\n",
    "                \"inputSchema\": {\n",
    "                    \"properties\": {\n",
    "                        \"latitude\": {\n",
    "                            \"title\": \"Latitude\",\n",
    "                            \"type\": \"number\"\n",
    "                        },\n",
    "                        \"longitude\": {\n",
    "                            \"title\": \"Longitude\",\n",
    "                            \"type\": \"number\"\n",
    "                        }\n",
    "                    },\n",
    "                    \"required\": [\"latitude\", \"longitude\"],\n",
    "                    \"title\": \"get_forecastArguments\",\n",
    "                    \"type\": \"object\"\n",
    "                }\n",
    "            }\n",
    "        ]\n",
    "    }\n",
    "}"
   ]
  },
  {
   "cell_type": "markdown",
   "id": "dbab0f4f",
   "metadata": {},
   "source": [
    "**解析：**\n",
    "- `id: 1` - 与请求ID匹配，表明这是对工具列表请求的响应\n",
    "- `result.tools` - 包含服务器提供的两个工具：\n",
    "  \n",
    "  1. **get_alerts工具**\n",
    "     - `name: \"get_alerts\"` - 工具名称\n",
    "     - `description` - 工具描述：获取美国州的天气警报\n",
    "     - `inputSchema` - 输入参数结构：\n",
    "       - 需要一个`state`参数，类型为字符串，表示美国州的两字母代码（如CA, NY）\n",
    "  \n",
    "  2. **get_forecast工具**\n",
    "     - `name: \"get_forecast\"` - 工具名称\n",
    "     - `description` - 工具描述：获取特定位置的天气预报\n",
    "     - `inputSchema` - 输入参数结构：\n",
    "       - 需要`latitude`（纬度）和`longitude`（经度）两个数值参数，表示地理位置\n",
    "\n",
    "**注意：**\n",
    "1. description来自于代码编写时的特殊注释：docstring\n",
    "\n",
    "<figure>\n",
    "    <img src=\"attachments/docstring.png\" alt=\"docstring\" style=\"width:500px\">\n",
    "    <figcaption> docstring </figcaption>\n",
    "</figure>\n",
    "\n",
    "2. inputSchema遵守的是一个叫JSON Schema的规范\n",
    "\n",
    "JSON Schema是本身也是一段JSON，用于描述另一段JSON的结构：\n",
    "<figure>\n",
    "    <img src=\"attachments/JSON_Schema.png\" alt=\"JSON_Schema\" style=\"width:500px\">\n",
    "    <figcaption> JSON Schema </figcaption>\n",
    "</figure>\n"
   ]
  },
  {
   "cell_type": "markdown",
   "id": "dd8ef3df",
   "metadata": {},
   "source": [
    "比如上图中的JSON Schema，要求JSON中必须有两个参数（`latitude`和`longitude`），然后两个参数的属性都是number。\n"
   ]
  },
  {
   "cell_type": "markdown",
   "id": "0c2f27f8",
   "metadata": {},
   "source": [
    "3. InputSchema是根据注册为mcp tools的参数定义实现的：\n",
    "<figure>\n",
    "    <img src=\"attachments/InputSchema.png\" alt=\"InputSchema\" style=\"width:500px\">\n",
    "    <figcaption> InputSchema </figcaption>\n",
    "</figure>"
   ]
  },
  {
   "cell_type": "markdown",
   "id": "d5fc35ac",
   "metadata": {},
   "source": [
    "### 6. 客户端请求资源列表（客户端 → 服务器）\n",
    "\n",
    "客户端请求获取服务器提供的资源列表。"
   ]
  },
  {
   "cell_type": "code",
   "execution_count": null,
   "id": "ef441348",
   "metadata": {},
   "outputs": [],
   "source": [
    "# 客户端请求资源列表\n",
    "{\n",
    "    \"method\": \"resources/list\",\n",
    "    \"jsonrpc\": \"2.0\",\n",
    "    \"id\": 2\n",
    "}"
   ]
  },
  {
   "cell_type": "markdown",
   "id": "7b1b598f",
   "metadata": {},
   "source": [
    "**解析：**\n",
    "- `method: \"resources/list\"` - 请求获取服务器支持的资源列表\n",
    "- `id: 2` - 请求ID，用于匹配响应"
   ]
  },
  {
   "cell_type": "markdown",
   "id": "c79d01b7",
   "metadata": {},
   "source": [
    "### 7. 服务器返回资源列表"
   ]
  },
  {
   "cell_type": "code",
   "execution_count": null,
   "id": "b9625e5c",
   "metadata": {},
   "outputs": [],
   "source": [
    "# 服务器返回资源列表\n",
    "{\n",
    "    \"jsonrpc\": \"2.0\",\n",
    "    \"id\": 2,\n",
    "    \"result\": {\n",
    "        \"resources\": []\n",
    "    }\n",
    "}"
   ]
  },
  {
   "cell_type": "markdown",
   "id": "b92881ba",
   "metadata": {},
   "source": [
    "**解析：**\n",
    "- `id: 2` - 与请求ID匹配，表明这是对资源列表请求的响应\n",
    "- `result.resources: []` - 空数组，表示服务器没有提供任何资源"
   ]
  },
  {
   "cell_type": "markdown",
   "id": "b3854f41",
   "metadata": {},
   "source": [
    "### 8. 资源模板列表请求\n",
    "\n",
    "客户端请求获取服务器提供的资源模板列表。"
   ]
  },
  {
   "cell_type": "code",
   "execution_count": null,
   "id": "65dc9161",
   "metadata": {},
   "outputs": [],
   "source": [
    "# 客户端请求资源模板列表\n",
    "{\n",
    "    \"method\": \"resources/templates/list\",\n",
    "    \"jsonrpc\": \"2.0\",\n",
    "    \"id\": 3\n",
    "}"
   ]
  },
  {
   "cell_type": "markdown",
   "id": "7fa386f0",
   "metadata": {},
   "source": [
    "**解析：**\n",
    "- `method: \"resources/templates/list\"` - 请求获取服务器支持的资源模板列表\n",
    "- `id: 3` - 请求ID，用于匹配响应"
   ]
  },
  {
   "cell_type": "markdown",
   "id": "a09d33b3",
   "metadata": {},
   "source": [
    "### 9. 服务器返回资源模板列表"
   ]
  },
  {
   "cell_type": "code",
   "execution_count": null,
   "id": "ef667c38",
   "metadata": {},
   "outputs": [],
   "source": [
    "# 服务器返回资源模板列表\n",
    "{\n",
    "    \"jsonrpc\": \"2.0\",\n",
    "    \"id\": 3,\n",
    "    \"result\": {\n",
    "        \"resourceTemplates\": []\n",
    "    }\n",
    "}"
   ]
  },
  {
   "cell_type": "markdown",
   "id": "d5c1a59c",
   "metadata": {},
   "source": [
    "**解析：**\n",
    "- `id: 3` - 与请求ID匹配，表明这是对资源模板列表请求的响应\n",
    "- `result.resourceTemplates: []` - 空数组，表示服务器没有提供任何资源模板"
   ]
  },
  {
   "cell_type": "markdown",
   "id": "3f92cb3c",
   "metadata": {},
   "source": [
    "### 10. 客户端发送调用工具请求（客户端 → 服务器）\n",
    "\n",
    "客户端请求调用服务器提供的`get_forecast`工具来获取天气预报。"
   ]
  },
  {
   "cell_type": "code",
   "execution_count": null,
   "id": "068b242a",
   "metadata": {},
   "outputs": [],
   "source": [
    "# 客户端请求调用get_forecast工具\n",
    "{\n",
    "    \"method\": \"tools/call\",\n",
    "    \"params\": {\n",
    "        \"name\": \"get_forecast\",\n",
    "        \"arguments\": {\n",
    "            \"latitude\": 40.7128,\n",
    "            \"longitude\": -74.006\n",
    "        }\n",
    "    },\n",
    "    \"jsonrpc\": \"2.0\",\n",
    "    \"id\": 4\n",
    "}"
   ]
  },
  {
   "cell_type": "markdown",
   "id": "c316c967",
   "metadata": {},
   "source": [
    "**解析：**\n",
    "- `method: \"tools/call\"` - 表示这是一个调用工具的请求\n",
    "- `params` - 调用参数：\n",
    "  - `name: \"get_forecast\"` - 要调用的工具名称\n",
    "  - `arguments` - 传递给工具的参数：\n",
    "    - `latitude: 40.7128` - 纬度值（40.7128是纽约市的纬度）\n",
    "    - `longitude: -74.006` - 经度值（-74.006是纽约市的经度）\n",
    "- `id: 4` - 请求ID，用于匹配响应"
   ]
  },
  {
   "cell_type": "markdown",
   "id": "6f64e76e",
   "metadata": {},
   "source": [
    "### 11. 服务器返回工具调用结果（服务器 → 客户端）"
   ]
  },
  {
   "cell_type": "code",
   "execution_count": null,
   "id": "f68da008",
   "metadata": {},
   "outputs": [],
   "source": [
    "# 服务器返回天气预报结果\n",
    "{\n",
    "    \"jsonrpc\": \"2.0\",\n",
    "    \"id\": 4,\n",
    "    \"result\": \n",
    "    {\n",
    "        \"content\": \n",
    "        [\n",
    "            {\n",
    "                \"type\": \"text\",\n",
    "                \"text\": \"\n",
    "                            Today:\n",
    "                            Temperature: 64°F\n",
    "                            Wind: 2 to 18 mph S\n",
    "                            Forecast: Mostly sunny. High near 64, with temperatures falling to around 62 in the afternoon. South wind 2 to 18 mph, with gusts as high as 30 mph.\n",
    "\n",
    "                            ---\n",
    "\n",
    "                            Tonight:\n",
    "                            Temperature: 57°F\n",
    "                            Wind: 12 to 17 mph S\n",
    "                            Forecast: Mostly cloudy. Low around 57, with temperatures rising to around 59 overnight. South wind 12 to 17 mph, with gusts as high as 29 mph.\n",
    "\n",
    "                            ---\n",
    "\n",
    "                            Saturday:\n",
    "                            Temperature: 78°F\n",
    "                            Wind: 12 to 21 mph SW\n",
    "                            Forecast: Partly sunny, with a high near 78. Southwest wind 12 to 21 mph, with gusts as high as 32 mph.\n",
    "\n",
    "                            ---\n",
    "\n",
    "                            Saturday Night:\n",
    "                            Temperature: 57°F\n",
    "                            Wind: 15 to 18 mph W\n",
    "                            Forecast: A chance of rain showers between 8pm and 2am. Mostly cloudy. Low around 57, with temperatures rising to around 61 overnight. West wind 15 to 18 mph. Chance of precipitation is 30%.\n",
    "\n",
    "                            ---\n",
    "\n",
    "                            Sunday:\n",
    "                            Temperature: 62°F\n",
    "                            Wind: 14 to 17 mph NW\n",
    "                            Forecast: Partly sunny, with a high near 62. Northwest wind 14 to 17 mph.\n",
    "                        \"\n",
    "            }\n",
    "        ],\n",
    "        \"isError\": false\n",
    "    }\n",
    "}"
   ]
  },
  {
   "cell_type": "markdown",
   "id": "1e4df608",
   "metadata": {},
   "source": [
    "**解析：**\n",
    "- `id: 4` - 与请求ID匹配，表明这是对调用get_forecast工具请求的响应\n",
    "- `result` - 包含工具执行的结果：\n",
    "  - `content` - 内容数组，包含结果项：\n",
    "    - `type: \"text\"` - 内容类型为文本\n",
    "    - `text` - 包含了详细的天气预报信息，分为多个时段（今天、今晚、周六、周六晚上、周日）\n",
    "      - 每个时段包含温度、风况和天气预报的详细描述\n",
    "  - `isError: false` - 表示工具执行成功，没有发生错误"
   ]
  },
  {
   "cell_type": "markdown",
   "id": "57d46891",
   "metadata": {},
   "source": [
    "### MCP通信总结\n",
    "\n",
    "通过分析以上MCP客户端与服务器间的通信日志，我们可以总结出MCP协议的基本工作流程：\n",
    "\n",
    "1. **初始化阶段**：\n",
    "   - 客户端发送初始化请求，提供协议版本和客户端信息\n",
    "   - 服务器响应，提供自身支持的能力和服务器信息\n",
    "   - 客户端发送初始化完成通知\n",
    "\n",
    "2. **发现阶段**：\n",
    "   - 客户端请求服务器提供的工具列表\n",
    "   - 客户端请求服务器提供的资源列表\n",
    "   - 客户端请求服务器提供的资源模板列表\n",
    "\n",
    "3. **调用阶段**：\n",
    "   - 客户端调用服务器提供的工具（本例中是获取纽约市的天气预报）\n",
    "   - 服务器执行工具功能并返回结果\n",
    "\n",
    "MCP协议使用JSON-RPC 2.0作为底层通信协议，每个请求都有一个与之对应的响应（除了通知类型的消息）。这种设计使得客户端与服务器之间的通信简单明了且易于理解。在本例中，服务器提供了两个天气相关的工具，但没有提供任何资源或资源模板。"
   ]
  },
  {
   "cell_type": "markdown",
   "id": "8229ea2f",
   "metadata": {},
   "source": [
    "| 步骤  | 目的             | 方法名                         | 备注                    |\n",
    "| --- | -------------- | --------------------------- | --------------------- |\n",
    "| ①-② | 建立会话 / 协商版本、能力 | `initialize`                | JSON-RPC 请求-响应        |\n",
    "| ③   | 完成初始化通知        | `notifications/initialized` | 无 id，单向通知             |\n",
    "| ④-⑤ | 获取可用工具清单       | `tools/list`                | 返回每个工具的 `inputSchema` |\n",
    "| ⑥-⑨ | （可选）探查资源与模板    | `resources/*`               | 此例均为空                 |\n",
    "| ⑩-⑪ | 真实业务调用         | `tools/call`                | 为指定经纬度取天气预报           |\n"
   ]
  },
  {
   "cell_type": "markdown",
   "id": "147d7c1e",
   "metadata": {},
   "source": [
    "## 直接与MCP Server交流"
   ]
  },
  {
   "cell_type": "markdown",
   "id": "72350866",
   "metadata": {},
   "source": [
    "1. **初始化阶段**：\n",
    "我们修改了我们的名字（Cline->txj），客户端返回了我们的服务器名称。\n",
    "\n",
    "`{\"method\":\"initialize\",\"params\":{\"protocolVersion\":\"2024-11-05\",\"capabilities\":{},\"clientInfo\":{\"name\":\"txj\",\"version\":\"0.0.1\"}},\"jsonrpc\":\"2.0\",\"id\":0}`\n",
    "`{\"method\":\"notifications/initialized\",\"jsonrpc\":\"2.0\"}`\n",
    "\n",
    "<figure>\n",
    "    <img src=\"attachments/DirectTalkWithMCPServer1.png\" alt=\"DirectTalkWithMCPServer1\" style=\"width:500px\">\n",
    "    <figcaption> DirectTalkWithMCPServer1 </figcaption>\n",
    "</figure>\n",
    "\n",
    "2. **发现阶段**：\n",
    "`{\"method\":\"resources/list\",\"jsonrpc\":\"2.0\",\"id\":2}`\n",
    "`{\"method\":\"resources/templates/list\",\"jsonrpc\":\"2.0\",\"id\":3}`\n",
    "<figure>\n",
    "    <img src=\"attachments/DirectTalkWithMCPServer2.png\" alt=\"DirectTalkWithMCPServer2\" style=\"width:500px\">\n",
    "    <figcaption> DirectTalkWithMCPServer2 </figcaption>\n",
    "</figure>\n",
    "\n",
    "3. **调用阶段**：\n",
    "我们成功调用我们自己编的MCP Server获取了北京的天气。\n",
    "`{\"method\":\"tools/call\",\"params\":{\"name\":\"get_weather\",\"arguments\":{\"city\":\"北京\"}},\"jsonrpc\":\"2.0\",\"id\":4}`\n",
    "\n",
    "<figure>\n",
    "    <img src=\"attachments/DirectTalkWithMCPServer3.png\" alt=\"DirectTalkWithMCPServer3\" style=\"width:500px\">\n",
    "    <figcaption> DirectTalkWithMCPServer3 </figcaption>\n",
    "</figure>"
   ]
  }
 ],
 "metadata": {
  "language_info": {
   "name": "python"
  }
 },
 "nbformat": 4,
 "nbformat_minor": 5
}
