{
 "cells": [
  {
   "cell_type": "markdown",
   "id": "0223061c",
   "metadata": {},
   "source": [
    "# MCP_Client与LLM的交互\n",
    "参考教程：https://www.bilibili.com/video/BV1v9V5zSEHA?spm_id_from=333.788.recommend_more_video.-1&vd_source=ba16f478e6d7f23888c37746ea6756de "
   ]
  },
  {
   "cell_type": "markdown",
   "id": "fab1baa2",
   "metadata": {},
   "source": [
    "## 引言\n",
    "在**MCP_Server**的创建中，我们导出了我们和Cline交互的记录如下，其中有<thinking>，<use_mcp_tool>等字段，表示模型先思考再调用工具或者直接回复，这是Cline的System Prompt所规定的。\n",
    "\n",
    "教程通过中介程序可以获取交互记录：\n",
    "<figure>\n",
    "    <img src=\"attachments/MCP_Client与LLM交互截取.png\" alt=\"MCP_Client与LLM交互截取\" style=\"width:500px\">\n",
    "    <figcaption> MCP_Client与LLM交互截取 </figcaption>\n",
    "</figure>\n",
    "为了简单起见，我们不采用自己跑一遍教程的方式，而是直接记录教程信息，解读交互过程。"
   ]
  },
  {
   "cell_type": "markdown",
   "id": "f8518140",
   "metadata": {},
   "source": [
    "**Assistant:**\n",
    "\n",
    "<thinking>\n",
    "1. 任务要求使用weather_calculator工具查询北京的温度，并计算温度+10的结果\n",
    "2. 需要分两步完成：\n",
    "   - 第一步：使用weather_calculator的get_weather工具获取北京当前温度\n",
    "   - 第二步：使用weather_calculator的calculate_sum工具计算温度+10\n",
    "3. 两个工具都在weather_calculator MCP服务器中可用\n",
    "4. 需要先获取温度值才能进行计算\n",
    "5. 所有必要参数都已提供（城市为北京，计算值为10）\n",
    "</thinking>\n",
    "\n",
    "<use_mcp_tool>\n",
    "<server_name>weather_calculator</server_name>\n",
    "<tool_name>get_weather</tool_name>\n",
    "<arguments>\n",
    "{\n",
    "  \"city\": \"北京\"\n",
    "}\n",
    "</arguments>\n",
    "</use_mcp_tool>\n",
    "\n",
    "---\n",
    "\n",
    "**User:**\n",
    "\n",
    "[use_mcp_tool for 'weather_calculator'] Result:\n",
    "{\n",
    "  \"weather\": \"Sunny\",\n",
    "  \"description\": \"晴朗\",\n",
    "  \"temperature\": 26\n",
    "}"
   ]
  },
  {
   "cell_type": "markdown",
   "id": "a96eec88",
   "metadata": {},
   "source": [
    "## 交互记录解读\n",
    "- **客户端发送给模型的内容是role+content的范式**：一般有system prompt（背景和交互模式说明，xml格式），user prompt（用户的问题和请求，纯文本） 和 assistnat prompt（模型的回复，xml格式）\n",
    "  - - 模型名称\n",
    "  - - system prompt（cline）：626行，48671个字符，超长巨耗token的系统提示词\n",
    "  - - user prompt + assistnat prompt的多轮历史交互   \n",
    "<figure>\n",
    "    <img src=\"attachments/MCP_Client与LLM交互记录1.png\" alt=\"MCP_Client与LLM交互记录1\" style=\"width:500px\">\n",
    "    <figcaption> MCP_Client与LLM交互记录1 </figcaption>\n",
    "</figure>\n"
   ]
  },
  {
   "cell_type": "markdown",
   "id": "d54bbf26",
   "metadata": {},
   "source": [
    "- **大模型以按照特定格式进行流式输出（一段一段输出，非流式输出是指一次性完整输出），然后客户端提取其中的文本消息。**"
   ]
  },
  {
   "cell_type": "markdown",
   "id": "4aa04487",
   "metadata": {},
   "source": [
    "<figure>\n",
    "    <img src=\"attachments/交互演示1.png\" alt=\"交互演示1\" style=\"width:500px\">\n",
    "    <figcaption> 交互演示：流式输出 </figcaption>\n",
    "</figure>"
   ]
  },
  {
   "cell_type": "markdown",
   "id": "2942f667",
   "metadata": {},
   "source": [
    "### system prompt（cline）重点解读\n",
    "system prompt（cline）有626行，48671个字符，超长巨耗token。\n",
    "\n",
    "翻译成中文后如下[[Cline客户端的system_prompt]]：\n",
    "（这里我们发现实际上教程中直接翻译得到的文件层级是不准确的，我们自己找到了cline的system prompt原文 https://github.com/cline/cline/blob/main/src/core/prompts/system.ts ，让ai翻译并生成了正确的层级）\n",
    "\n",
    "- [工具使用](#工具使用)\n",
    "  - [工具使用格式](#工具使用格式)\n",
    "  - [工具](#工具)\n",
    "    - [execute\\_command](#execute_command)\n",
    "    - [read\\_file](#read_file)\n",
    "    - [write\\_to\\_file](#write_to_file)\n",
    "    - [replace\\_in\\_file](#replace_in_file)\n",
    "    - [search\\_files](#search_files)\n",
    "    - [list\\_files](#list_files)\n",
    "    - [list\\_code\\_definition\\_names](#list_code_definition_names)\n",
    "    - [browser\\_action](#browser_action)\n",
    "    - [use\\_mcp\\_tool](#use_mcp_tool)\n",
    "    - [access\\_mcp\\_resource](#access_mcp_resource)\n",
    "    - [ask\\_followup\\_question](#ask_followup_question)\n",
    "    - [attempt\\_completion](#attempt_completion)\n",
    "    - [new\\_task](#new_task)\n",
    "    - [plan\\_mode\\_respond](#plan_mode_respond)\n",
    "    - [load\\_mcp\\_documentation](#load_mcp_documentation)\n",
    "  - [工具使用示例](#工具使用示例)\n",
    "    - [示例 1：请求执行命令](#示例-1请求执行命令)\n",
    "    - [示例 2：请求创建新文件](#示例-2请求创建新文件)\n",
    "    - [示例 3：创建新任务](#示例-3创建新任务)\n",
    "    - [示例 4：请求对文件进行有针对性的编辑](#示例-4请求对文件进行有针对性的编辑)\n",
    "    - [示例 5：请求使用 MCP 工具](#示例-5请求使用-mcp-工具)\n",
    "    - [示例 6：使用 MCP 工具的另一个示例（其中服务器名称是唯一标识符，例如 URL）](#示例-6使用-mcp-工具的另一个示例其中服务器名称是唯一标识符例如-url)\n",
    "  - [工具使用指南](#工具使用指南)\n",
    "- [MCP 服务器](#mcp-服务器)\n",
    "  - [连接的 MCP 服务器](#连接的-mcp-服务器)\n",
    "- [编辑文件](#编辑文件)\n",
    "  - [write\\_to\\_file](#write_to_file-1)\n",
    "    - [目的](#目的)\n",
    "    - [何时使用](#何时使用)\n",
    "    - [重要注意事项](#重要注意事项)\n",
    "  - [replace\\_in\\_file](#replace_in_file-1)\n",
    "    - [目的](#目的-1)\n",
    "    - [何时使用](#何时使用-1)\n",
    "    - [优点](#优点)\n",
    "  - [选择合适的工具](#选择合适的工具)\n",
    "  - [自动格式化注意事项](#自动格式化注意事项)\n",
    "  - [工作流程提示](#工作流程提示)\n",
    "- [操作模式与计划模式](#操作模式与计划模式)\n",
    "    - [什么是计划模式？](#什么是计划模式)\n",
    "- [功能](#功能)\n",
    "- [规则](#规则)\n",
    "- [系统信息](#系统信息)\n",
    "- [目标](#目标)"
   ]
  },
  {
   "cell_type": "markdown",
   "id": "adcebcc3",
   "metadata": {},
   "source": [
    "<figure>\n",
    "    <img src=\"attachments/MCP_Client与LLM交互记录2.png\" alt=\"MCP_Client与LLM交互记录2\" style=\"width:300px\">\n",
    "    <figcaption> MCP_Client与LLM交互：system prompt（层级错误） </figcaption>\n",
    "</figure>"
   ]
  },
  {
   "cell_type": "markdown",
   "id": "5aef2ce0",
   "metadata": {
    "vscode": {
     "languageId": "plaintext"
    }
   },
   "source": [
    "#### 工具使用\n",
    "##### 工具使用格式\n",
    "xml标签格式化"
   ]
  },
  {
   "cell_type": "markdown",
   "id": "f9e77b0f",
   "metadata": {},
   "source": [
    "<figure>\n",
    "    <img src=\"attachments/工具使用格式.png\" alt=\"工具使用格式\" style=\"width:500px\">\n",
    "    <figcaption> 工具使用格式 </figcaption>\n",
    "</figure>\n",
    "\n",
    "<figure>\n",
    "    <img src=\"attachments/工具调用范例.png\" alt=\"工具调用范例\" style=\"width:500px\">\n",
    "    <figcaption> 工具调用范例 </figcaption>\n",
    "</figure>"
   ]
  },
  {
   "cell_type": "markdown",
   "id": "5ac58730",
   "metadata": {},
   "source": [
    "##### 工具\n",
    "通常我们说的工具包括下图中两部分，这里只说明Cline的内置工具。\n",
    "<figure>\n",
    "    <img src=\"attachments/工具范围.png\" alt=\"工具范围\" style=\"width:300px\">\n",
    "    <figcaption> 工具范围 </figcaption>\n",
    "</figure>\n",
    "\n",
    "其中重点工具有两个：use_mcp_tools（用于调用MCP服务器）、attempt_completion（用于结束对话）。\n",
    "\n",
    "**注意**：这里指说明了如何调用MCP服务器中的tools，具体有哪些MCP Server和其中的tools在**MCP 服务器**部分"
   ]
  },
  {
   "cell_type": "markdown",
   "id": "6e181e92",
   "metadata": {},
   "source": [
    "**1. use_mcp_tool**\n",
    "\n",
    "说明：请求使用连接的 MCP 服务器提供的工具。每个 MCP 服务器可以提供具有不同功能的多个工具。工具有定义的输入模式，用于指定必需和可选参数。\n",
    "参数：\n",
    "- server_name：（必需）提供工具的 MCP 服务器的名称\n",
    "- tool_name：（必需）要执行的工具的名称（在server_name这个MCP服务器中的tools）\n",
    "- arguments：（必需）一个 JSON 对象，包含工具的输入参数，遵循工具的输入模式\n",
    "用法：\n",
    "\n",
    "<use_mcp_tool>\n",
    "\n",
    "<server_name>此处输入服务器名称</server_name>\n",
    "\n",
    "<tool_name>此处输入工具名称</tool_name>\n",
    "\n",
    "<arguments>\n",
    "{\n",
    "  \"param1\": \"value1\",\n",
    "  \"param2\": \"value2\"\n",
    "}\n",
    "</arguments>\n",
    "\n",
    "</use_mcp_tool>"
   ]
  },
  {
   "cell_type": "markdown",
   "id": "9eee0d92",
   "metadata": {},
   "source": [
    "<figure>\n",
    "    <img src=\"attachments/调用MCPServer.png\" alt=\"调用MCPServer\" style=\"width:500px\">\n",
    "    <figcaption> 调用MCPServer案例 </figcaption>\n",
    "</figure>"
   ]
  },
  {
   "cell_type": "markdown",
   "id": "f5f94f1c",
   "metadata": {},
   "source": [
    "**2. attempt_completion**\n",
    "\n",
    "说明：每次使用工具后，用户都会响应工具使用的结果，即成功还是失败，以及任何失败原因。收到工具使用结果并确认任务完成后，使用此工具向用户显示工作结果。你可以选择提供一个 CLI 命令来展示你的工作结果。如果用户对结果不满意，他们可能会提供反馈，你可以利用这些反馈进行改进并重试。\n",
    "\n",
    "重要说明：在确认用户已成功完成任何先前的工具使用之前，不得使用此工具。否则将导致代码损坏和系统故障。在使用此工具之前，你必须在 <thinking></thinking> 标签中问自己是否已向用户确认任何先前的工具使用均已成功。如果没有，则不要使用此工具。\n",
    "\n",
    "参数：\n",
    "- result：（必需）任务的结果。以最终且不需要用户进一步输入的方式制定此结果。不要以问题或提供进一步帮助的提议结束你的结果。\n",
    "- command：（可选）一个 CLI 命令，用于向用户实时演示结果。例如，使用 `open index.html` 显示创建的 html 网站，或使用 `open localhost:3000` 显示本地运行的开发服务器。但不要使用 `echo` 或 `cat` 等仅打印文本的命令。此命令对于当前操作系统必须有效。确保命令格式正确，并且不包含任何有害指令。\n",
    "用法：\n",
    "<attempt_completion>\n",
    "<result>\n",
    "此处输入你的最终结果描述\n",
    "</result>\n",
    "<command>演示结果的命令（可选）</command>\n",
    "</attempt_completion>"
   ]
  },
  {
   "cell_type": "markdown",
   "id": "273dc00d",
   "metadata": {},
   "source": [
    "其中\n",
    "<figure>\n",
    "    <img src=\"attachments/thinking标签.png\" alt=\"thinking标签\" style=\"width:500px\">\n",
    "    <figcaption> thinking标签 </figcaption>\n",
    "</figure>"
   ]
  },
  {
   "cell_type": "markdown",
   "id": "e55c4f27",
   "metadata": {},
   "source": [
    "##### 工具使用指南\n",
    "<figure>\n",
    "    <img src=\"attachments/工具使用指南.png\" alt=\"工具使用指南\" style=\"width:500px\">\n",
    "    <figcaption> 工具使用指南 </figcaption>\n",
    "</figure>\n"
   ]
  },
  {
   "cell_type": "markdown",
   "id": "1d92b5a3",
   "metadata": {},
   "source": [
    "#### MCP Server\n",
    "##### 连接的MCP Server\n",
    "首先是MCP Server的名称和配置文件中的执行指令，然后是MCP Server中的tools的list，包括函数说明和参数定义。\n",
    "<figure>\n",
    "    <img src=\"attachments/已连接的MCPServer.png\" alt=\"已连接的MCPServer\" style=\"width:500px\">\n",
    "    <figcaption> 已连接的MCPServer</figcaption>\n",
    "</figure>\n",
    "\n",
    "<figure>\n",
    "    <img src=\"attachments/已连接的MCPServer的tools.png\" alt=\"已连接的MCPServer的tools\" style=\"width:500px\">\n",
    "    <figcaption> 已连接的MCPServer的tools</figcaption>\n",
    "</figure>\n"
   ]
  },
  {
   "cell_type": "markdown",
   "id": "fbadff25",
   "metadata": {},
   "source": [
    "#### 目标\n",
    "\n",
    "##### think标签：每次对话前模型都要先思考（一句话概括[目标]）\n",
    "<figure>\n",
    "    <img src=\"attachments/thinking标签.png\" alt=\"thinking标签\" style=\"width:500px\">\n",
    "    <figcaption> thinking标签 </figcaption>\n",
    "</figure>\n",
    "\n",
    "你迭代地完成给定的任务，将其分解为清晰的步骤并有条不紊地完成它们。\n",
    "\n",
    "1. 分析用户的任务并设定明确、可实现的目标来完成它。按逻辑顺序排列这些目标的优先级。\n",
    "2. 按顺序完成这些目标，根据需要一次使用一个可用的工具。每个目标都应对应于你解决问题过程中的一个不同步骤。在此过程中，你将随时了解已完成的工作和剩余的工作。\n",
    "3. 请记住，你拥有广泛的功能，可以访问各种工具，这些工具可以根据需要以强大而巧妙的方式使用来完成每个目标。在调用工具之前，请在 <thinking></thinking> 标签中进行一些分析。首先，分析 environment_details 中提供的文件结构以获取上下文和见解，以便有效地进行。然后，考虑提供的工具中哪个是完成用户任务最相关的工具。接下来，检查相关工具的每个必需参数，并确定用户是否直接提供或给出了足够的信息来推断值。在决定是否可以推断参数时，请仔细考虑所有上下文以查看它是否支持特定值。如果所有必需的参数都存在或可以合理地推断出来，请关闭 thinking 标签并继续使用该工具。但是，如果缺少必需参数的某个值，请不要调用该工具（即使缺少参数的填充符也不行），而是使用 ask_followup_question 工具要求用户提供缺少的参数。如果未提供可选参数，请不要索要更多信息。\n",
    "4. 完成用户任务后，必须使用 attempt_completion 工具向用户显示任务的结果。你还可以提供一个 CLI 命令来展示任务的结果；这对于 Web 开发任务尤其有用，例如，你可以运行 `open index.html` 来显示你构建的网站。\n",
    "5. 用户可能会提供反馈，你可以利用这些反馈进行改进并重试。但是不要进行毫无意义的来回对话，即不要以问题或提供进一步帮助的提议结束你的响应。\n",
    "\n"
   ]
  },
  {
   "cell_type": "markdown",
   "id": "aca19cd1",
   "metadata": {},
   "source": [
    "### 交互演示\n",
    "\n",
    "**客户端按role把提示词发送给大模型，有纯文本、xml等。**\n",
    "\n",
    "**大模型以按照特定格式进行流式输出（一段一段输出，非流式输出是指一次性完整输出），然后客户端提取其中的文本消息。**"
   ]
  },
  {
   "cell_type": "markdown",
   "id": "7d761741",
   "metadata": {},
   "source": [
    "<figure>\n",
    "    <img src=\"attachments/交互演示1.png\" alt=\"交互演示1\" style=\"width:500px\">\n",
    "    <figcaption> 交互演示：流式输出 </figcaption>\n",
    "</figure>"
   ]
  },
  {
   "cell_type": "markdown",
   "id": "fc00ca5e",
   "metadata": {},
   "source": [
    "<figure>\n",
    "    <img src=\"attachments/交互演示2.png\" alt=\"交互演示2\" style=\"width:500px\">\n",
    "    <figcaption> 交互演示：用户提问 </figcaption>\n",
    "</figure>"
   ]
  },
  {
   "cell_type": "markdown",
   "id": "bbd380b4",
   "metadata": {},
   "source": [
    "<figure>\n",
    "    <img src=\"attachments/交互演示3.png\" alt=\"交互演示3\" style=\"width:500px\">\n",
    "    <figcaption> 交互演示：第一次调用工具及结果添加到对话历史中 </figcaption>\n",
    "</figure>"
   ]
  },
  {
   "cell_type": "markdown",
   "id": "b43f2fff",
   "metadata": {},
   "source": [
    "### 完整交流图示"
   ]
  },
  {
   "cell_type": "markdown",
   "id": "b1921e1f",
   "metadata": {},
   "source": [
    "<figure>\n",
    "    <img src=\"attachments/完整交互流程与行为模式.png\" alt=\"完整交互流程与行为模式\" style=\"width:500px\">\n",
    "    <figcaption> 完整交互流程与行为模式 </figcaption>\n",
    "</figure>"
   ]
  },
  {
   "cell_type": "markdown",
   "id": "ba642f95",
   "metadata": {},
   "source": [
    "# React模式"
   ]
  },
  {
   "cell_type": "markdown",
   "id": "00bd0aaa",
   "metadata": {},
   "source": [
    "ReAct来自于下面这篇论文（注意第一作者是尧舜禹大神😄），Resoning- Action的简写指用Thought- Observation-Action的模式处理问题，我们在[[Agnet]]正是使用ReAct_prompt实现的工具调用。\n",
    "<figure>\n",
    "    <img src=\"attachments/ReAct.png\" alt=\"ReAct\" style=\"width:500px\">\n",
    "    <figcaption> ReAct </figcaption>\n",
    "</figure>\n",
    "我们把上面的完整交流过程转化为使用ReAct_prompt如下图。"
   ]
  },
  {
   "cell_type": "markdown",
   "id": "81b60a94",
   "metadata": {},
   "source": [
    "<figure>\n",
    "    <img src=\"attachments/ReAct-文本格式.png\" alt=\"ReAct-文本格式\" style=\"width:500px\">\n",
    "    <figcaption> ReAct-文本格式 </figcaption>\n",
    "</figure>"
   ]
  }
 ],
 "metadata": {
  "language_info": {
   "name": "python"
  }
 },
 "nbformat": 4,
 "nbformat_minor": 5
}
