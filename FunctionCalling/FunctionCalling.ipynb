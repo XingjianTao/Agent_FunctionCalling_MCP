{
 "cells": [
  {
   "cell_type": "markdown",
   "id": "c2acd7d8",
   "metadata": {},
   "source": [
    "# Function Calling\n",
    "- 核心过程：模型（经过训练的）接受结构化的json格式的函数声明（api schema），生成结构化的json格式的函数调用指令 \n",
    "- 模型需要使用了上述输入输出的文本的训练集做微调\n",
    "\n",
    "本教程将通过在openai的框架下实现Function Calling，来解释下面流程图。\n",
    "<figure>\n",
    "    <img src=\"attachments/Function_Calling.png\" alt=\"Function_Calling\" style=\"width:500px\">\n",
    "    <figcaption> Function_Calling </figcaption>\n",
    "</figure>\n",
    "\n",
    "①②③④⑤⑥⑦⑧⑨⑩⑪⑫⑬⑭⑮⑯⑰⑱⑲⑳"
   ]
  },
  {
   "cell_type": "markdown",
   "id": "56a1366b",
   "metadata": {},
   "source": [
    "## Step0：函数创建与编写函数说明\n",
    "**注意：函数说明即并不需要向下面这样手写，而是可以自动创建，参见[[自动创建ApiSchema]]**\n",
    "<figure>\n",
    "    <img src=\"attachments/Function_Calling_Function.png\" alt=\"Function_Calling_Function\" style=\"width:200px\">\n",
    "    <figcaption> Function_Calling_Function </figcaption>\n",
    "</figure>"
   ]
  },
  {
   "cell_type": "code",
   "execution_count": null,
   "id": "e23e1d7e",
   "metadata": {},
   "outputs": [],
   "source": [
    "for name in dir():\n",
    "    if not name.startswith('_'):\n",
    "        del globals()[name]\n",
    "# 定义工具 schema\n",
    "tools = [\n",
    "    {\n",
    "        \"type\": \"function\",\n",
    "        \"function\": {\n",
    "            \"name\": \"get_weather\",\n",
    "            \"description\": \"Get weather for a given city\",\n",
    "            \"parameters\": {\n",
    "                \"type\": \"object\",\n",
    "                \"properties\": {\n",
    "                    \"city\": {\n",
    "                        \"type\": \"string\",\n",
    "                        \"description\": \"City name\"\n",
    "                    }\n",
    "                },\n",
    "                \"required\": [\"city\"]\n",
    "            }\n",
    "        }\n",
    "    },\n",
    "    {\n",
    "        \"type\": \"function\",\n",
    "        \"function\": {\n",
    "            \"name\": \"calculate_sum\",\n",
    "            \"description\": \"Add two numbers\",\n",
    "            \"parameters\": {\n",
    "                \"type\": \"object\",\n",
    "                \"properties\": {\n",
    "                    \"a\": {\"type\": \"number\"},\n",
    "                    \"b\": {\"type\": \"number\"}\n",
    "                },\n",
    "                \"required\": [\"a\", \"b\"]\n",
    "            }\n",
    "        }\n",
    "    }\n",
    "]\n",
    "\n",
    "def get_weather(city):\n",
    "    # Regardless of the input city, always return sunny weather.\n",
    "    return {\n",
    "        \"weather\": \"Sunny\",\n",
    "        \"description\": \"Clear sky\",\n",
    "        \"temperature\": 26\n",
    "    }\n",
    "\n",
    "def calculate_sum(a, b):\n",
    "    return {\"result\": a + b}"
   ]
  },
  {
   "cell_type": "markdown",
   "id": "47d30113",
   "metadata": {},
   "source": [
    "## Step1：微调大模型使得支持Function Calling\n",
    "对应蓝色箭头红①"
   ]
  },
  {
   "cell_type": "markdown",
   "id": "bea6c5ba",
   "metadata": {},
   "source": [
    "## Step2：初始化智能体中枢，配置llm并注册tools\n",
    "对应红色箭头蓝①-②"
   ]
  },
  {
   "cell_type": "code",
   "execution_count": null,
   "id": "53ed4372",
   "metadata": {},
   "outputs": [],
   "source": [
    "from openai import OpenAI\n",
    "# 创建 DeepSeek 客户端\n",
    "client = OpenAI(\n",
    "    base_url=\"https://api.deepseek.com/v1\",\n",
    "    api_key=\"sk-2310dcae0744404eb0bbcbd2df4c6759\"  # 请替换为你自己的 DeepSeek API Key\n",
    ")\n",
    "# 初始化消息历史\n",
    "messages = [{\"role\": \"user\", \"content\": \"北京的温度加10是多少度？\"}]\n",
    "# 发送消息并获取响应\n",
    "response_1 = client.chat.completions.create(\n",
    "    model=\"deepseek-chat\",  # DeepSeek 模型名\n",
    "    messages=messages,\n",
    "    tools=tools,\n",
    "    tool_choice=\"auto\"  # 自动决定是否使用工具\n",
    ")\n"
   ]
  },
  {
   "cell_type": "markdown",
   "id": "4ef08268",
   "metadata": {},
   "source": [
    "## Step3：解析智能体中枢的输出并调用函数\n",
    "### 第一轮对话\n",
    "对应红色箭头蓝③-⑦\n",
    "\n",
    "模型回复中content为空，但是tool_calls非空，其值表示调用get_weather工具，表现正常。"
   ]
  },
  {
   "cell_type": "code",
   "execution_count": null,
   "id": "be07defe",
   "metadata": {},
   "outputs": [
    {
     "name": "stdout",
     "output_type": "stream",
     "text": [
      "\n",
      "🤖 模型第一次回应：\n",
      "完整消息对象: ChatCompletionMessage(content='', refusal=None, role='assistant', annotations=None, audio=None, function_call=None, tool_calls=[ChatCompletionMessageToolCall(id='call_0_a89dd185-737e-4944-a944-8cc42f9d8d8c', function=Function(arguments='{\"city\": \"北京\"}', name='get_weather'), type='function', index=0)])\n",
      "内容: \n",
      "是否调用工具: True\n",
      "工具调用: {'city': '北京'}\n"
     ]
    }
   ],
   "source": [
    "import json\n",
    "# 解析第一轮响应\n",
    "assistant_message_1 = response_1.choices[0].message\n",
    "print(\"\\n🤖 模型第一次回应：\")\n",
    "print(\"完整消息对象:\", assistant_message_1)\n",
    "print(f\"内容: {assistant_message_1.content}\")\n",
    "print(f\"是否调用工具: {assistant_message_1.tool_calls is not None}\")\n",
    "if assistant_message_1.tool_calls:\n",
    "    print(\"工具调用:\", json.loads(assistant_message_1.tool_calls[0].function.arguments))"
   ]
  },
  {
   "cell_type": "code",
   "execution_count": null,
   "id": "8cc88923",
   "metadata": {},
   "outputs": [
    {
     "name": "stdout",
     "output_type": "stream",
     "text": [
      "\n",
      "🔧 模型调用函数：get_weather({'city': '北京'})\n",
      "\n",
      "📊 函数执行结果：{'weather': 'Sunny', 'description': 'Clear sky', 'temperature': 26}\n",
      "\n",
      "📝 当前消息历史:\n",
      "  1. 角色: user, 内容: 北京的温度加10是多少度？\n",
      "  2. 角色: assistant, 工具调用\n",
      "  3. 角色: tool, 内容: {\"weather\": \"Sunny\", \"description\": \"Clear sky\", \"temperature\": 26}\n"
     ]
    }
   ],
   "source": [
    "# 如果模型调用了工具（应该是调用 get_weather）\n",
    "if assistant_message_1.tool_calls:\n",
    "    tool_call_1 = assistant_message_1.tool_calls[0]\n",
    "    function_name_1 = tool_call_1.function.name\n",
    "    arguments_1 = json.loads(tool_call_1.function.arguments)\n",
    "    \n",
    "    print(f\"\\n🔧 模型调用函数：{function_name_1}({arguments_1})\")\n",
    "    \n",
    "    # 执行函数\n",
    "    if function_name_1 == \"get_weather\":\n",
    "        result_1 = get_weather(**arguments_1)\n",
    "    elif function_name_1 == \"calculate_sum\":\n",
    "        result_1 = calculate_sum(**arguments_1)\n",
    "    else:\n",
    "        result_1 = {\"error\": \"Unknown function\"}\n",
    "        \n",
    "    print(f\"\\n📊 函数执行结果：{result_1}\")\n",
    "    \n",
    "    # 添加助手回复到消息历史（包含工具调用）\n",
    "    messages.append({\"role\": \"assistant\", \"tool_calls\": assistant_message_1.tool_calls})\n",
    "    \n",
    "    # 添加工具响应到消息历史\n",
    "    messages.append({\n",
    "        \"role\": \"tool\", \n",
    "        \"tool_call_id\": tool_call_1.id, \n",
    "        \"name\": function_name_1, \n",
    "        \"content\": json.dumps(result_1)\n",
    "    })\n",
    "    \n",
    "    # 打印当前消息历史，方便理解\n",
    "    print(\"\\n📝 当前消息历史:\")\n",
    "    for i, msg in enumerate(messages):\n",
    "        print(f\"  {i+1}. 角色: {msg['role']}, \" + \n",
    "              (f\"内容: {msg['content']}\" if 'content' in msg else \"工具调用\"))\n",
    "else:\n",
    "    # 模型没有调用任何函数，直接给出答案\n",
    "    print(\"\\n🎉 模型没有调用工具，直接给出答案:\", assistant_message_1.content)\n"
   ]
  },
  {
   "cell_type": "markdown",
   "id": "e9956f5f",
   "metadata": {},
   "source": [
    "### 第二轮对话\n",
    "对应红色箭头蓝⑧⑨-④⑤⑥⑦\n",
    "\n",
    "注意第二轮返回给模型的对话messages是第一轮的对话历史！\n",
    "\n",
    "模型回复中content为空，但是tool_calls非空，其值表示调用get_weather工具，表现正常。"
   ]
  },
  {
   "cell_type": "code",
   "execution_count": null,
   "id": "41c22054",
   "metadata": {},
   "outputs": [
    {
     "name": "stdout",
     "output_type": "stream",
     "text": [
      "\n",
      "==================================================\n",
      "🔄 第二轮对话：将天气信息反馈给模型\n",
      "==================================================\n",
      "\n",
      "🤖 模型第二次回应：\n",
      "内容: \n",
      "是否调用工具: True\n",
      "\n",
      "🔧 模型调用第二个函数：calculate_sum({'a': 26, 'b': 10})\n",
      "\n",
      "📊 第二个函数执行结果：{'result': 36}\n",
      "\n",
      "📝 更新后的消息历史:\n",
      "  1. 角色: user, 内容: 北京的温度加10是多少度？\n",
      "  2. 角色: assistant, 工具调用\n",
      "  3. 角色: tool, 内容: {\"weather\": \"Sunny\", \"description\": \"Clear sky\", \"temperature\": 26}\n",
      "  4. 角色: assistant, 内容: \n",
      "  5. 角色: tool, 内容: {\"result\": 36}\n"
     ]
    }
   ],
   "source": [
    "# 第二轮对话：将天气信息给回模型，让模型进行计算\n",
    "print(\"\\n\" + \"=\"*50)\n",
    "print(\"🔄 第二轮对话：将天气信息反馈给模型\")\n",
    "print(\"=\"*50)\n",
    "\n",
    "# 第二轮对话 - 让模型处理函数返回的温度信息\n",
    "response_2 = client.chat.completions.create(\n",
    "    model=\"deepseek-chat\",\n",
    "    messages=messages,\n",
    "    tools=tools,\n",
    "    tool_choice=\"auto\"\n",
    ")\n",
    "\n",
    "# 解析第二轮响应\n",
    "assistant_message_2 = response_2.choices[0].message\n",
    "print(\"\\n🤖 模型第二次回应：\")\n",
    "print(f\"内容: {assistant_message_2.content}\")\n",
    "print(f\"是否调用工具: {assistant_message_2.tool_calls is not None}\")\n",
    "\n",
    "# 如果模型还调用了工具（应该是调用 calculate_sum）\n",
    "if assistant_message_2.tool_calls:\n",
    "    tool_call_2 = assistant_message_2.tool_calls[0]\n",
    "    function_name_2 = tool_call_2.function.name\n",
    "    arguments_2 = json.loads(tool_call_2.function.arguments)\n",
    "    \n",
    "    print(f\"\\n🔧 模型调用第二个函数：{function_name_2}({arguments_2})\")\n",
    "    \n",
    "    # 执行第二个函数\n",
    "    if function_name_2 == \"get_weather\":\n",
    "        result_2 = get_weather(**arguments_2)\n",
    "    elif function_name_2 == \"calculate_sum\":\n",
    "        result_2 = calculate_sum(**arguments_2)\n",
    "    else:\n",
    "        result_2 = {\"error\": \"Unknown function\"}\n",
    "        \n",
    "    print(f\"\\n📊 第二个函数执行结果：{result_2}\")\n",
    "    \n",
    "    # 添加第二个助手回复到消息历史\n",
    "    messages.append(assistant_message_2.model_dump())\n",
    "    \n",
    "    # 添加第二个工具响应到消息历史\n",
    "    messages.append({\n",
    "        \"role\": \"tool\", \n",
    "        \"tool_call_id\": tool_call_2.id, \n",
    "        \"name\": function_name_2, \n",
    "        \"content\": json.dumps(result_2)\n",
    "    })\n",
    "    \n",
    "    # 打印更新后的消息历史\n",
    "    print(\"\\n📝 更新后的消息历史:\")\n",
    "    for i, msg in enumerate(messages):\n",
    "        print(f\"  {i+1}. 角色: {msg['role']}, \" + \n",
    "              (f\"内容: {msg['content']}\" if 'content' in msg else \"工具调用\"))\n",
    "else:\n",
    "    print(\"\\n🎉 模型直接给出答案:\", assistant_message_2.content)"
   ]
  },
  {
   "cell_type": "markdown",
   "id": "67b9c482",
   "metadata": {},
   "source": [
    "### 第三轮对话\n",
    "对应红色箭头蓝⑦⑧⑨⑩历史！"
   ]
  },
  {
   "cell_type": "code",
   "execution_count": null,
   "id": "0f75d744",
   "metadata": {},
   "outputs": [
    {
     "name": "stdout",
     "output_type": "stream",
     "text": [
      "\n",
      "==================================================\n",
      "🎯 第三轮对话：生成最终答案\n",
      "==================================================\n",
      "\n",
      "🤖 模型最终回应：\n",
      "内容: 北京当前温度为26°C，加10°C后是36°C。\n",
      "\n",
      "==================================================\n",
      "🎉 完成！\n"
     ]
    }
   ],
   "source": [
    "# 第三轮对话：生成最终答案\n",
    "print(\"\\n\" + \"=\"*50)\n",
    "print(\"🎯 第三轮对话：生成最终答案\")\n",
    "print(\"=\"*50)\n",
    "\n",
    "# 获取最终答案\n",
    "final_response = client.chat.completions.create(\n",
    "    model=\"deepseek-chat\",\n",
    "    messages=messages\n",
    ")\n",
    "print(\"\\n🤖 模型最终回应：\")\n",
    "print(f\"内容: {final_response.choices[0].message.content}\")\n",
    "print(\"\\n\" + \"=\"*50)\n",
    "print(\"🎉 完成！\")"
   ]
  }
 ],
 "metadata": {
  "kernelspec": {
   "display_name": "aiagent",
   "language": "python",
   "name": "python3"
  },
  "language_info": {
   "codemirror_mode": {
    "name": "ipython",
    "version": 3
   },
   "file_extension": ".py",
   "mimetype": "text/x-python",
   "name": "python",
   "nbconvert_exporter": "python",
   "pygments_lexer": "ipython3",
   "version": "3.12.9"
  }
 },
 "nbformat": 4,
 "nbformat_minor": 5
}
